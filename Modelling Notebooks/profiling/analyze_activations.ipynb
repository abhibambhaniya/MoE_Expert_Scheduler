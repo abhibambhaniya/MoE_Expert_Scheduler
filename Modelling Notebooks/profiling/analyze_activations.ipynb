{
 "cells": [
  {
   "cell_type": "code",
   "execution_count": 19,
   "id": "initial_id",
   "metadata": {
    "collapsed": true,
    "ExecuteTime": {
     "end_time": "2024-03-10T18:23:41.507656Z",
     "start_time": "2024-03-10T18:23:41.151523Z"
    }
   },
   "outputs": [],
   "source": [
    "import csv\n",
    "import glob\n",
    "import torch\n",
    "from torch import tensor\n",
    "import pandas as pd"
   ]
  },
  {
   "cell_type": "code",
   "execution_count": 4,
   "outputs": [],
   "source": [
    "def read_csv(csv_path: str):\n",
    "    with open(csv_path) as fp:\n",
    "        reader = csv.reader(fp, delimiter=\",\", quotechar=\"\\\"\")\n",
    "        return [row for row in reader]\n",
    "\n",
    "\n",
    "def tensor_from_str(tensor_string: str):\n",
    "    \"\"\"\n",
    "    Requires cuda\n",
    "    \"\"\"\n",
    "    return eval(tensor_str)\n",
    "\n"
   ],
   "metadata": {
    "collapsed": false,
    "ExecuteTime": {
     "end_time": "2024-03-10T18:10:18.587381Z",
     "start_time": "2024-03-10T18:10:18.584147Z"
    }
   },
   "id": "e8ca6b5bddd926c3"
  },
  {
   "cell_type": "code",
   "execution_count": 15,
   "outputs": [],
   "source": [
    "tensor_str = \"tensor([[[-1.1250e+00, -1.2109e+00,  1.8984e+00,  1.0703e+00, -4.7266e-01,\\n           6.6406e-01, -5.9326e-02, -5.5469e-01]],\\n\\n        [[ 2.9531e+00, -1.3047e+00,  8.0469e-01, -7.4768e-03, -1.3750e+00,\\n          -8.3984e-01, -8.3203e-01,  1.1328e+00]],\\n\\n        [[ 9.8047e-01, -2.1777e-01,  6.9922e-01,  1.7422e+00,  2.9053e-02,\\n          -1.1406e+00, -1.1328e+00, -6.2891e-01]],\\n\\n        [[-8.2812e-01,  8.0859e-01, -8.2031e-01,  1.3965e-01, -4.8242e-01,\\n          -1.0234e+00, -1.0156e-01,  2.6562e+00]],\\n\\n        [[ 8.1250e-01,  3.4375e-01, -3.6328e-01, -2.0703e-01, -1.6211e-01,\\n          -4.4922e-01,  5.2344e-01, -1.2305e-01]],\\n\\n        [[-3.3008e-01, -1.7969e-01,  1.3594e+00, -7.0312e-01, -3.4766e-01,\\n          -1.4258e-01,  3.7695e-01,  9.6484e-01]],\\n\\n        [[-4.0234e-01, -5.6250e-01,  2.9883e-01,  5.8203e-01,  7.2266e-01,\\n          -9.2188e-01, -3.7305e-01,  2.1406e+00]],\\n\\n        [[ 4.3213e-02,  2.1118e-02, -1.5469e+00,  5.0391e-01,  1.5312e+00,\\n          -4.3750e-01,  1.7285e-01,  3.0859e-01]],\\n\\n        [[-6.3672e-01,  2.2500e+00, -5.0781e-01, -2.7344e-01, -1.3906e+00,\\n           2.7344e-02, -6.8750e-01,  1.6016e+00]],\\n\\n        [[-1.3984e+00, -4.1406e-01,  1.5527e-01, -4.2578e-01,  8.4375e-01,\\n          -3.0859e-01,  7.1777e-02,  1.0938e+00]],\\n\\n        [[-4.9023e-01, -1.0312e+00,  1.9922e-01, -8.3594e-01, -7.4219e-02,\\n           4.1211e-01,  1.8672e+00, -6.3281e-01]],\\n\\n        [[-1.2793e-01,  1.4453e+00,  2.0020e-01, -1.8516e+00, -9.3750e-01,\\n          -6.6797e-01, -4.7070e-01,  7.0703e-01]],\\n\\n        [[-1.6699e-01,  2.8992e-03, -5.2734e-01,  6.2500e-01, -8.5547e-01,\\n           1.2891e+00, -1.4844e+00,  8.5156e-01]],\\n\\n        [[ 1.1797e+00, -1.2634e-02, -9.0625e-01, -4.1992e-01, -9.7656e-01,\\n           1.0312e+00,  4.6094e-01, -3.5547e-01]],\\n\\n        [[ 1.8359e-01, -3.6719e-01, -8.5938e-02, -3.8281e-01,  9.6875e-01,\\n          -7.6953e-01,  5.9766e-01, -1.1484e+00]],\\n\\n        [[-8.4375e-01,  3.4375e-01,  1.9375e+00, -3.0664e-01, -1.5723e-01,\\n          -3.2812e-01, -6.4062e-01, -7.2266e-01]],\\n\\n        [[ 1.0693e-01,  8.1641e-01,  7.7344e-01,  1.3828e+00, -3.3984e-01,\\n          -3.5352e-01, -9.1016e-01, -9.9609e-01]],\\n\\n        [[-1.1797e+00,  2.9297e-02, -3.6523e-01, -1.0078e+00, -2.0117e-01,\\n          -6.9141e-01,  4.0625e-01,  2.6094e+00]],\\n\\n        [[-1.5469e+00,  6.4453e-01, -3.0859e-01, -5.4688e-01, -3.5742e-01,\\n           1.7656e+00,  4.5703e-01,  6.6406e-01]],\\n\\n        [[-4.6094e-01,  2.4531e+00, -1.8594e+00, -1.3516e+00, -1.3594e+00,\\n           2.1191e-01,  6.4453e-01,  1.4688e+00]],\\n\\n        [[-4.9805e-01, -1.9531e+00,  2.5156e+00,  3.7188e+00, -1.5859e+00,\\n          -1.2988e-01, -7.9297e-01, -7.6562e-01]],\\n\\n        [[ 1.2793e-01, -2.4219e+00, -4.5312e-01,  2.1250e+00,  4.3359e-01,\\n           6.9141e-01, -8.2031e-01,  1.1406e+00]],\\n\\n        [[ 1.7891e+00, -2.7031e+00,  2.9531e+00, -5.4297e-01,  1.5391e+00,\\n          -4.8828e-01, -2.1875e+00,  8.9062e-01]],\\n\\n        [[ 2.4531e+00, -2.3750e+00,  1.6016e+00,  1.0234e+00, -1.4141e+00,\\n           2.0781e+00, -1.0078e+00, -2.4688e+00]],\\n\\n        [[-2.0703e-01,  5.2344e-01, -2.9844e+00, -1.6016e+00,  8.9062e-01,\\n           1.3438e+00,  6.6016e-01,  2.9531e+00]],\\n\\n        [[-1.1406e+00, -7.0312e-01,  9.5703e-01,  6.2109e-01, -3.0469e-01,\\n           9.5312e-01, -6.5234e-01,  7.5781e-01]],\\n\\n        [[-1.5938e+00,  3.4766e-01,  6.8750e-01, -1.9375e+00, -3.6133e-01,\\n          -1.5234e-01,  3.2812e+00, -1.1230e-01]],\\n\\n        [[ 2.4688e+00,  2.4609e-01, -3.5156e-02,  2.2070e-01,  8.5938e-01,\\n          -1.2422e+00,  4.8828e-01, -2.4688e+00]],\\n\\n        [[ 3.3447e-02, -5.3125e-01,  7.8125e-01, -1.0078e+00,  1.3672e+00,\\n           1.6250e+00, -1.0703e+00, -5.9766e-01]],\\n\\n        [[-6.6406e-01,  4.8828e-01, -1.0938e+00, -1.5078e+00, -1.2031e+00,\\n          -6.4844e-01,  3.4219e+00,  2.0781e+00]],\\n\\n        [[-8.8281e-01, -4.4375e+00,  1.0234e+00,  2.9492e-01, -3.4375e-01,\\n          -5.8594e-01,  3.8750e+00,  9.7266e-01]],\\n\\n        [[ 4.2812e+00,  4.0625e+00, -3.9258e-01,  1.6562e+00,  2.5781e+00,\\n           2.6719e+00, -1.5703e+00,  3.0859e-01]]],\\n       dtype=torch.bfloat16)\""
   ],
   "metadata": {
    "collapsed": false,
    "ExecuteTime": {
     "end_time": "2024-03-10T18:14:22.413129Z",
     "start_time": "2024-03-10T18:14:22.384994Z"
    }
   },
   "id": "64bad3a691858898"
  },
  {
   "cell_type": "code",
   "execution_count": 16,
   "outputs": [
    {
     "data": {
      "text/plain": "tensor([[[-1.1250e+00, -1.2109e+00,  1.8984e+00,  1.0703e+00, -4.7266e-01,\n           6.6406e-01, -5.9326e-02, -5.5469e-01]],\n\n        [[ 2.9531e+00, -1.3047e+00,  8.0469e-01, -7.4768e-03, -1.3750e+00,\n          -8.3984e-01, -8.3203e-01,  1.1328e+00]],\n\n        [[ 9.8047e-01, -2.1777e-01,  6.9922e-01,  1.7422e+00,  2.9053e-02,\n          -1.1406e+00, -1.1328e+00, -6.2891e-01]],\n\n        [[-8.2812e-01,  8.0859e-01, -8.2031e-01,  1.3965e-01, -4.8242e-01,\n          -1.0234e+00, -1.0156e-01,  2.6562e+00]],\n\n        [[ 8.1250e-01,  3.4375e-01, -3.6328e-01, -2.0703e-01, -1.6211e-01,\n          -4.4922e-01,  5.2344e-01, -1.2305e-01]],\n\n        [[-3.3008e-01, -1.7969e-01,  1.3594e+00, -7.0312e-01, -3.4766e-01,\n          -1.4258e-01,  3.7695e-01,  9.6484e-01]],\n\n        [[-4.0234e-01, -5.6250e-01,  2.9883e-01,  5.8203e-01,  7.2266e-01,\n          -9.2188e-01, -3.7305e-01,  2.1406e+00]],\n\n        [[ 4.3213e-02,  2.1118e-02, -1.5469e+00,  5.0391e-01,  1.5312e+00,\n          -4.3750e-01,  1.7285e-01,  3.0859e-01]],\n\n        [[-6.3672e-01,  2.2500e+00, -5.0781e-01, -2.7344e-01, -1.3906e+00,\n           2.7344e-02, -6.8750e-01,  1.6016e+00]],\n\n        [[-1.3984e+00, -4.1406e-01,  1.5527e-01, -4.2578e-01,  8.4375e-01,\n          -3.0859e-01,  7.1777e-02,  1.0938e+00]],\n\n        [[-4.9023e-01, -1.0312e+00,  1.9922e-01, -8.3594e-01, -7.4219e-02,\n           4.1211e-01,  1.8672e+00, -6.3281e-01]],\n\n        [[-1.2793e-01,  1.4453e+00,  2.0020e-01, -1.8516e+00, -9.3750e-01,\n          -6.6797e-01, -4.7070e-01,  7.0703e-01]],\n\n        [[-1.6699e-01,  2.8992e-03, -5.2734e-01,  6.2500e-01, -8.5547e-01,\n           1.2891e+00, -1.4844e+00,  8.5156e-01]],\n\n        [[ 1.1797e+00, -1.2634e-02, -9.0625e-01, -4.1992e-01, -9.7656e-01,\n           1.0312e+00,  4.6094e-01, -3.5547e-01]],\n\n        [[ 1.8359e-01, -3.6719e-01, -8.5938e-02, -3.8281e-01,  9.6875e-01,\n          -7.6953e-01,  5.9766e-01, -1.1484e+00]],\n\n        [[-8.4375e-01,  3.4375e-01,  1.9375e+00, -3.0664e-01, -1.5723e-01,\n          -3.2812e-01, -6.4062e-01, -7.2266e-01]],\n\n        [[ 1.0693e-01,  8.1641e-01,  7.7344e-01,  1.3828e+00, -3.3984e-01,\n          -3.5352e-01, -9.1016e-01, -9.9609e-01]],\n\n        [[-1.1797e+00,  2.9297e-02, -3.6523e-01, -1.0078e+00, -2.0117e-01,\n          -6.9141e-01,  4.0625e-01,  2.6094e+00]],\n\n        [[-1.5469e+00,  6.4453e-01, -3.0859e-01, -5.4688e-01, -3.5742e-01,\n           1.7656e+00,  4.5703e-01,  6.6406e-01]],\n\n        [[-4.6094e-01,  2.4531e+00, -1.8594e+00, -1.3516e+00, -1.3594e+00,\n           2.1191e-01,  6.4453e-01,  1.4688e+00]],\n\n        [[-4.9805e-01, -1.9531e+00,  2.5156e+00,  3.7188e+00, -1.5859e+00,\n          -1.2988e-01, -7.9297e-01, -7.6562e-01]],\n\n        [[ 1.2793e-01, -2.4219e+00, -4.5312e-01,  2.1250e+00,  4.3359e-01,\n           6.9141e-01, -8.2031e-01,  1.1406e+00]],\n\n        [[ 1.7891e+00, -2.7031e+00,  2.9531e+00, -5.4297e-01,  1.5391e+00,\n          -4.8828e-01, -2.1875e+00,  8.9062e-01]],\n\n        [[ 2.4531e+00, -2.3750e+00,  1.6016e+00,  1.0234e+00, -1.4141e+00,\n           2.0781e+00, -1.0078e+00, -2.4688e+00]],\n\n        [[-2.0703e-01,  5.2344e-01, -2.9844e+00, -1.6016e+00,  8.9062e-01,\n           1.3438e+00,  6.6016e-01,  2.9531e+00]],\n\n        [[-1.1406e+00, -7.0312e-01,  9.5703e-01,  6.2109e-01, -3.0469e-01,\n           9.5312e-01, -6.5234e-01,  7.5781e-01]],\n\n        [[-1.5938e+00,  3.4766e-01,  6.8750e-01, -1.9375e+00, -3.6133e-01,\n          -1.5234e-01,  3.2812e+00, -1.1230e-01]],\n\n        [[ 2.4688e+00,  2.4609e-01, -3.5156e-02,  2.2070e-01,  8.5938e-01,\n          -1.2422e+00,  4.8828e-01, -2.4688e+00]],\n\n        [[ 3.3447e-02, -5.3125e-01,  7.8125e-01, -1.0078e+00,  1.3672e+00,\n           1.6250e+00, -1.0703e+00, -5.9766e-01]],\n\n        [[-6.6406e-01,  4.8828e-01, -1.0938e+00, -1.5078e+00, -1.2031e+00,\n          -6.4844e-01,  3.4219e+00,  2.0781e+00]],\n\n        [[-8.8281e-01, -4.4375e+00,  1.0234e+00,  2.9492e-01, -3.4375e-01,\n          -5.8594e-01,  3.8750e+00,  9.7266e-01]],\n\n        [[ 4.2812e+00,  4.0625e+00, -3.9258e-01,  1.6562e+00,  2.5781e+00,\n           2.6719e+00, -1.5703e+00,  3.0859e-01]]], dtype=torch.bfloat16)"
     },
     "execution_count": 16,
     "metadata": {},
     "output_type": "execute_result"
    }
   ],
   "source": [
    "from torch import tensor\n",
    "\n",
    "parsed_tensor = eval(tensor_str)\n",
    "parsed_tensor"
   ],
   "metadata": {
    "collapsed": false,
    "ExecuteTime": {
     "end_time": "2024-03-10T18:14:23.140336Z",
     "start_time": "2024-03-10T18:14:23.132591Z"
    }
   },
   "id": "e3defa78f72e8bc4"
  },
  {
   "cell_type": "code",
   "execution_count": 17,
   "outputs": [
    {
     "data": {
      "text/plain": "torch.Size([32, 1, 8])"
     },
     "execution_count": 17,
     "metadata": {},
     "output_type": "execute_result"
    }
   ],
   "source": [
    "parsed_tensor.shape"
   ],
   "metadata": {
    "collapsed": false,
    "ExecuteTime": {
     "end_time": "2024-03-10T18:14:27.044021Z",
     "start_time": "2024-03-10T18:14:27.038388Z"
    }
   },
   "id": "c5d9d511f68ccc79"
  },
  {
   "cell_type": "code",
   "execution_count": 18,
   "outputs": [],
   "source": [
    "class ParsedRow:\n",
    "    def __init__(self, id: str, num_output_tokens: int, sequences: torch.Tensor, prefill_logits: torch.Tensor,\n",
    "                 decode_logits: torch.Tensor):\n",
    "        self.id = id\n",
    "        self.num_output_tokens = num_output_tokens\n",
    "        self.sequences = sequences\n",
    "        self.prefill_logits = prefill_logits\n",
    "        self.decode_logits = decode_logits\n",
    "\n",
    "\n",
    "def parse_row(row: list) -> ParsedRow:\n",
    "    num_gen_tokens = int(row[-2]) + 1\n",
    "\n",
    "    if len(row) < 6:\n",
    "        print(\"Encountered row with too few columns - no decode tokens maybe?\")\n",
    "        raise Exception\n",
    "\n",
    "    id = row[0]\n",
    "    output_seq = tensor_from_str(row[1])\n",
    "\n",
    "    prefill_router_logits = tensor_from_str(row[3])\n",
    "\n",
    "    decode_router_logits = []\n",
    "    for i in range(5, len(row)):\n",
    "        decode_router_logits.append(tensor_from_str(row[i]))\n",
    "\n",
    "    #return ParsedRow(id, num_gen_tokens, output_seq, prefill_router_logits, decode_router_logits)\n",
    "    return {\"id\": id, \"num_output_tokens\": num_gen_tokens, \"sequences\": output_seq,\n",
    "            \"router_prefill\": prefill_router_logits, \"router_decode\": decode_router_logits}"
   ],
   "metadata": {
    "collapsed": false,
    "ExecuteTime": {
     "end_time": "2024-03-10T18:20:14.759344Z",
     "start_time": "2024-03-10T18:20:14.756330Z"
    }
   },
   "id": "8bb3406077cabd14"
  },
  {
   "cell_type": "code",
   "execution_count": null,
   "outputs": [],
   "source": [
    "RESULTS_PATTERN = \"~/Downloads/mixtral_outputs/*.csv\""
   ],
   "metadata": {
    "collapsed": false
   },
   "id": "a05e5c734cfc568d"
  },
  {
   "cell_type": "code",
   "execution_count": null,
   "outputs": [],
   "source": [
    "full_df = None\n",
    "\n",
    "for file_path in glob.glob(RESULTS_PATTERN):\n",
    "    rows = read_csv(file_path)\n",
    "    parsed_rows = [parse_row(row) for row in rows]\n",
    "    incremental_df = pd.DataFrame.from_records(parsed_rows)\n",
    "    \n",
    "    print(\"Parsed {} rows\".format(incremental_df.shape[0]))\n",
    "    \n",
    "    if full_df is None:\n",
    "        full_df = incremental_df\n",
    "    else:\n",
    "        full_df = pd.concat([full_df, incremental_df])\n",
    "        print(\"Merged rows into dataframe - new size: {}\".format(full_df.shape[0]))"
   ],
   "metadata": {
    "collapsed": false
   },
   "id": "a571e2f9bb0e948c"
  }
 ],
 "metadata": {
  "kernelspec": {
   "display_name": "Python 3",
   "language": "python",
   "name": "python3"
  },
  "language_info": {
   "codemirror_mode": {
    "name": "ipython",
    "version": 2
   },
   "file_extension": ".py",
   "mimetype": "text/x-python",
   "name": "python",
   "nbconvert_exporter": "python",
   "pygments_lexer": "ipython2",
   "version": "2.7.6"
  }
 },
 "nbformat": 4,
 "nbformat_minor": 5
}
